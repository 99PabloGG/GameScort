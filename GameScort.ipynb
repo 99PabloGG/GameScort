{
  "nbformat": 4,
  "nbformat_minor": 0,
  "metadata": {
    "colab": {
      "name": "GameScort.ipynb",
      "provenance": [],
      "collapsed_sections": [],
      "include_colab_link": true
    },
    "kernelspec": {
      "display_name": "Python 3",
      "name": "python3"
    }
  },
  "cells": [
    {
      "cell_type": "markdown",
      "metadata": {
        "id": "view-in-github",
        "colab_type": "text"
      },
      "source": [
        "<a href=\"https://colab.research.google.com/github/99PabloGG/GameScort/blob/main/GameScort.ipynb\" target=\"_parent\"><img src=\"https://colab.research.google.com/assets/colab-badge.svg\" alt=\"Open In Colab\"/></a>"
      ]
    },
    {
      "cell_type": "markdown",
      "metadata": {
        "id": "Wpnz_Pp2ELMM"
      },
      "source": [
        "**GameScort**\n",
        "-----------------------------------------------\n",
        "\n",
        "\n",
        "Índice\n",
        "************\n",
        "\n",
        "1 - [Preparativos](#section1)<br>\n",
        "\n",
        "2 - [Usuarios](#section2)<br>\n",
        "\n",
        "3 - [Videojuegos](#section3)<br>\n",
        "\n",
        "4 - [Comentarios](#section4)<br>\n",
        "\n",
        "5 - [Valoración](#section5)<br>"
      ]
    },
    {
      "cell_type": "markdown",
      "metadata": {
        "id": "IDs75bGmGdnl"
      },
      "source": [
        "## 1. Preparativos <a id=\"section1\"/>\n",
        "****\n",
        "\n",
        "Necesitaremos importar la librería de pandas, así como los diversos archivos de datos .csv . "
      ]
    },
    {
      "cell_type": "code",
      "metadata": {
        "id": "vkcBNljXjDCe"
      },
      "source": [
        "import pandas as pd\n",
        "import warnings\n",
        "\n",
        "warnings.filterwarnings(\"ignore\")\n",
        "\n",
        "urlGames = 'https://drive.google.com/uc?export=download&id='+'https://drive.google.com/file/d/1CjiDnLo7fcREVdq9NdwBbZclK0u1JhLC/view?usp=sharing'.split('/')[-2]\n",
        "urlUsers = 'https://drive.google.com/uc?export=download&id='+'https://drive.google.com/file/d/1CjiDnLo7fcREVdq9NdwBbZclK0u1JhLC/view?usp=sharing'.split('/')[-2]\n",
        "urlComments = 'https://drive.google.com/uc?export=download&id='+'https://drive.google.com/file/d/1CjiDnLo7fcREVdq9NdwBbZclK0u1JhLC/view?usp=sharing'.split('/')[-2]\n",
        "urlVals = 'https://drive.google.com/uc?export=download&id='+'https://drive.google.com/file/d/1CjiDnLo7fcREVdq9NdwBbZclK0u1JhLC/view?usp=sharing'.split('/')[-2]\n",
        "\n",
        "csvGames = pd.read_csv(urlGames)\n",
        "csvUsers = pd.read_csv(urlUsers)\n",
        "csvComments = pd.read_csv(urlComments)\n",
        "csvVals = pd.read_csv(urlVals)\n",
        "\n",
        "pd.set_option('display.max_columns', None)\n",
        "pd.set_option('display.width', None)\n",
        "pd.set_option('display.max_colwidth', -1)"
      ],
      "execution_count": null,
      "outputs": []
    },
    {
      "cell_type": "markdown",
      "metadata": {
        "id": "Qbg33fplHNzf"
      },
      "source": [
        "## 2. Usuarios <a id=\"section2\"/>\n",
        "****\n",
        "\n",
        "Código referente a la gestión de usuarios. Nos permitirá consultar,  añadir, modificar y eliminar."
      ]
    },
    {
      "cell_type": "markdown",
      "metadata": {
        "id": "kHut4y6UaS4H"
      },
      "source": [
        "### Consultar Usuario"
      ]
    },
    {
      "cell_type": "code",
      "metadata": {
        "id": "eKI7wRcpaWLC"
      },
      "source": [
        "def consultarUsuario():\n",
        "  global csvUsers\n",
        "\n",
        "  login = input(\"Introduce el login:\")\n",
        "  if (csvUsers[(csvUsers['login'].str.contains(login))].shape[0]==0):\n",
        "    print(\"No existe ningun usuario que coincida con tu busqueda\")\n",
        "  else:\n",
        "    print(csvUsers[(csvUsers['login'].str.contains(login))].loc[ : , ['login']].to_string(index=False))\n",
        "\n",
        "    login2 = input(\"Introduce el login del usuario deseado:\")\n",
        "\n",
        "    while (csvUsers[(csvUsers['login'].str.contains(login)) & (csvUsers['login'] == login2)].shape[0]==0):\n",
        "      login2 = input(\"Introduce el login del usuario deseado:\")\n",
        "\n",
        "    return csvUsers[(csvUsers['login'] == login2)].loc[ : , ['login', 'nombre', 'es_profesional']]\n",
        "\n",
        "consultarUsuario()"
      ],
      "execution_count": null,
      "outputs": []
    },
    {
      "cell_type": "markdown",
      "metadata": {
        "id": "EaJjd043abK1"
      },
      "source": [
        "### Añadir Usuario"
      ]
    },
    {
      "cell_type": "code",
      "metadata": {
        "id": "fLPsw9araeId"
      },
      "source": [
        "def anadirUsuario():\n",
        "  global csvUsers\n",
        "\n",
        "  login = input(\"Introduce el login: \")\n",
        "\n",
        "  password = input(\"Introduce la contraseña: \")\n",
        "\n",
        "  nombre = input(\"Introduce la nombre: \")\n",
        "\n",
        "  email = input(\"Introduce tu email: \")\n",
        "\n",
        "  es_profesional = input(\"Eres un profesional del sector? S/N : \")\n",
        "  if es_profesional == 'S':\n",
        "    es_profesional = 'si'\n",
        "  else:\n",
        "    es_profesional = 'no'\n",
        "\n",
        "  csvUsers.loc[csvUsers.shape[0]] = [login, password, nombre, email , es_profesional]\n",
        "  csvUsers.to_csv('/content/drive/My Drive/Traballo ABP/CSV/usuarios.csv', index=False)\n",
        "\n",
        "  print(\"\")\n",
        "  print(\"\")\n",
        "  print(\"Usuario añadido satisfactoriamente !\")\n",
        "  print(\"------------------------------------\")\n",
        "\n",
        "  return csvUsers.tail(1)\n",
        "\n",
        "anadirUsuario()\n"
      ],
      "execution_count": null,
      "outputs": []
    },
    {
      "cell_type": "markdown",
      "metadata": {
        "id": "V5AQ60LfagZ3"
      },
      "source": [
        "### Modificar Usuario"
      ]
    },
    {
      "cell_type": "code",
      "metadata": {
        "id": "d5AhKN3DaiBL"
      },
      "source": [
        "def modificarUsuario():\n",
        "  global csvUsers\n",
        "\n",
        "  login = consultarUsuario().iat[0,0]         #.iat[0,0] para acceder al contenido del 'id' del videojuego consultado\n",
        "  print('password // nombre // email // es_profesional')\n",
        "  parametro = input(\"Que parametro deseas modificar: \").lower()\n",
        "\n",
        "  while (parametro != 'password' and parametro != 'nombre' and parametro != 'email' and parametro != 'es_profesional'):\n",
        "    if (parametro == 'login'):\n",
        "      print(\"No es posible editar el login\")\n",
        "    else:\n",
        "      print(\"Introduce un parametro valido\")\n",
        "      \n",
        "    parametro = input(\"Que parametro deseas modificar: \").lower()\n",
        "\n",
        "  contenido = input(\"Introduce el nuevo contenido: \")\n",
        "  if parametro == 'es_profesional':\n",
        "    if contenido == 'S':\n",
        "      contenido = 'si'\n",
        "    else:\n",
        "      contenido = 'no'\n",
        "\n",
        "  csvUsers.at[csvUsers[(csvUsers['login'] == login)].index[0], parametro] = contenido\n",
        "  csvUsers.to_csv('/content/drive/My Drive/Traballo ABP/CSV/usuarios.csv', index=False)\n",
        "\n",
        "  print(\"\")\n",
        "  print(\"\")\n",
        "  print(\"Usuario modificado satisfactoriamente !\")\n",
        "  print(\"---------------------------------------\")\n",
        "\n",
        "  return csvUsers[(csvUsers['login'] == login)]\n",
        "\n",
        "modificarUsuario()"
      ],
      "execution_count": null,
      "outputs": []
    },
    {
      "cell_type": "markdown",
      "metadata": {
        "id": "j_QjUZOQal8G"
      },
      "source": [
        "### Eliminar Usuario"
      ]
    },
    {
      "cell_type": "code",
      "metadata": {
        "id": "hV6Wkwuyancz"
      },
      "source": [
        "def eliminarUsuario():\n",
        "  global csvUsers\n",
        "  global csvComments\n",
        "  global csvVals\n",
        "\n",
        "  login = consultarUsuario().iat[0,0]\n",
        "\n",
        "  print(\"¿Deseas borrar este usuario? S/N\")\n",
        "\n",
        "  if (input() == 'S'):\n",
        "    csvUsers = csvUsers[(csvUsers['login'] != login)]   #Elimina la fila id\n",
        "    csvUsers.reset_index(inplace=True)                   #Actualiza los index\n",
        "    csvUsers.drop('index', axis = 1, inplace=True)       #Elimina la columna \"index\" generada en la linea anterior\n",
        "    csvUsers.to_csv('/content/drive/My Drive/Traballo ABP/CSV/usuarios.csv', index=False)\n",
        "\n",
        "    csvComments = csvComments[(csvComments['login'] != login)]\n",
        "    csvComments.reset_index(inplace=True)                   #Actualiza los index\n",
        "    csvComments.drop('index', axis = 1, inplace=True)       #Elimina la columna \"index\" generada en la linea anterior\n",
        "    csvComments.to_csv('/content/drive/My Drive/Traballo ABP/CSV/comentarios.csv', index=False)\n",
        "\n",
        "    csvVals = csvVals[(csvVals['login']!=login)]\n",
        "    csvVals.reset_index(inplace=True)                   #Actualiza los index\n",
        "    csvVals.drop('index', axis = 1, inplace=True)       #Elimina la columna \"index\" generada en la linea anterior\n",
        "    csvVals.to_csv('/content/drive/My Drive/Traballo ABP/CSV/valoraciones.csv', index=False)\n",
        "\n",
        "    print(\"\")\n",
        "    print(\"\")\n",
        "    print(\"Usuario eliminado satisfactoriamente !\")\n",
        "    print(\"--------------------------------------\")\n",
        "\n",
        "eliminarUsuario()"
      ],
      "execution_count": null,
      "outputs": []
    },
    {
      "cell_type": "markdown",
      "metadata": {
        "id": "hQph7EI0JHY1"
      },
      "source": [
        "## 3. Videojuegos <a id=\"section3\"/>\n",
        "****\n",
        "\n",
        "Código referente a la gestión de videojuegos. Nos permitirá consultar, añadir, modificar y eliminar."
      ]
    },
    {
      "cell_type": "markdown",
      "metadata": {
        "id": "mpQv2Q05pauc"
      },
      "source": [
        "### Consultar Videojuego"
      ]
    },
    {
      "cell_type": "code",
      "metadata": {
        "id": "vcSJRdhaoZzP"
      },
      "source": [
        "def consultarVideojuego():\n",
        "  titulo = input(\"Introduce el título del videojuego:\")\n",
        "  if (csvGames[(csvGames['titulo'].str.contains(titulo))].shape[0]==0):\n",
        "    print(\"No existe ningun juego que coincida con tu busqueda\")\n",
        "  else:\n",
        "    print(csvGames[(csvGames['titulo'].str.contains(titulo))].loc[ : , ['id', 'titulo', 'plataforma']].to_string(index=False))\n",
        "\n",
        "    id = int(input(\"Introduce el id del videojuego deseado:\"))\n",
        "\n",
        "    while (csvGames[(csvGames['titulo'].str.contains(titulo)) & (csvGames['id'] == id)].shape[0]==0):\n",
        "      id = int(input(\"Introduce un id válido:\"))\n",
        "\n",
        "    return csvGames[(csvGames['id'] == id)]\n",
        "\n",
        "consultarVideojuego()"
      ],
      "execution_count": null,
      "outputs": []
    },
    {
      "cell_type": "markdown",
      "metadata": {
        "id": "65VZYAljJ7Ni"
      },
      "source": [
        "### Añadir Videojuego"
      ]
    },
    {
      "cell_type": "code",
      "metadata": {
        "id": "w0DnL3LfJeT4"
      },
      "source": [
        "def anadirVideojuego():\n",
        "  global csvGames\n",
        "  \n",
        "  id=int(csvGames.shape[0]+1)\n",
        "\n",
        "  titulo = input(\"Introduce el título: \")\n",
        "\n",
        "  plataforma = input(\"Introduce la plataforma: \")\n",
        "\n",
        "  desarrollador = input(\"Introduce desarrador: \")\n",
        "\n",
        "  pegi = input(\"Introduce la clasificacion PEGI (PEGI +xx): \")\n",
        "\n",
        "  descripcion = input(\"Introduce una descripción: \")\n",
        "\n",
        "  csvGames.loc[csvGames.shape[0]] = [id, titulo, plataforma, desarrollador , pegi ,descripcion]\n",
        "  csvGames.to_csv('/content/drive/My Drive/Traballo ABP/CSV/videojuegos_mini.csv', index=False)\n",
        "\n",
        "  print(\"\")\n",
        "  print(\"\")\n",
        "  print(\"Videojuego añadido satisfactoriamente !\")\n",
        "  print(\"---------------------------------------\")\n",
        "\n",
        "  return csvGames.tail(1)\n",
        "\n",
        "anadirVideojuego()"
      ],
      "execution_count": null,
      "outputs": []
    },
    {
      "cell_type": "markdown",
      "metadata": {
        "id": "XNB4LxHTWWK1"
      },
      "source": [
        "### Modificar Videojuego"
      ]
    },
    {
      "cell_type": "code",
      "metadata": {
        "id": "VNmFfXG-Waga"
      },
      "source": [
        "def modificarVideojuego():\n",
        "  global csvGames\n",
        "  \n",
        "  id = consultarVideojuego().iat[0,0]         #.iat[0,0] para acceder al contenido del 'id' del videojuego consultado\n",
        "  print('titulo // plataforma // desarrollador // pegi // descripción')\n",
        "  parametro = input(\"Que parametro deseas modificar: \")\n",
        "\n",
        "  while (parametro != 'titulo' and parametro != 'plataforma' and parametro != 'desarrollador' and parametro != 'pegi' and parametro != 'descripcion'):\n",
        "    if (parametro == 'id'):\n",
        "      print(\"No es posible editar el id\")\n",
        "    else:\n",
        "      print(\"Introduce un parametro valido\")\n",
        "\n",
        "    parametro = input(\"Que parametro deseas modificar: \")\n",
        "\n",
        "  contenido = input(\"Introduce el nuevo contenido: \")\n",
        "\n",
        "  csvGames.at[csvGames[(csvGames['id'] == id)].index[0], parametro] = contenido\n",
        "\n",
        "  csvGames.to_csv('/content/drive/My Drive/Traballo ABP/CSV/videojuegos_mini.csv', index=False)\n",
        "\n",
        "  print(\"\")\n",
        "  print(\"\")\n",
        "  print(\"Videojuego modificado satisfactoriamente !\")\n",
        "  print(\"------------------------------------------\")\n",
        "\n",
        "  return csvGames[(csvGames['id'] == id)]\n",
        "\n",
        "modificarVideojuego()"
      ],
      "execution_count": null,
      "outputs": []
    },
    {
      "cell_type": "markdown",
      "metadata": {
        "id": "ipO99DtBld6G"
      },
      "source": [
        "### Eliminar Videojuego"
      ]
    },
    {
      "cell_type": "code",
      "metadata": {
        "id": "4kVt1mPbljOE"
      },
      "source": [
        "def eliminarVideojuego():\n",
        "  global csvGames\n",
        "  global csvComments\n",
        "  global csvVals\n",
        "\n",
        "  id = consultarVideojuego().iat[0,0]\n",
        "  titulo = csvGames[csvGames['id']==id].iat[0,1]\n",
        "\n",
        "  print(\"¿Deseas borrar este videojuego? S/N\")\n",
        "\n",
        "  if (input() == 'S'):\n",
        "    csvComments = csvComments[(csvComments['titulo']!=titulo)]\n",
        "    csvComments.reset_index(inplace=True)                   #Actualiza los index\n",
        "    csvComments.drop('index', axis = 1, inplace=True)       #Elimina la columna \"index\" generada en la linea anterior\n",
        "    csvComments.to_csv('/content/drive/My Drive/Traballo ABP/CSV/comentarios.csv', index=False)\n",
        "\n",
        "    csvVals = csvVals[(csvVals['titulo']!=titulo)]\n",
        "    csvVals.reset_index(inplace=True)                   #Actualiza los index\n",
        "    csvVals.drop('index', axis = 1, inplace=True)       #Elimina la columna \"index\" generada en la linea anterior\n",
        "    csvVals.to_csv('/content/drive/My Drive/Traballo ABP/CSV/valoraciones.csv', index=False)\n",
        "\n",
        "    csvGames = csvGames[(csvGames['id'] != id)]       #Elimina la fila id\n",
        "    csvGames.reset_index(inplace=True)                   #Actualiza los index\n",
        "    csvGames.drop('index', axis = 1, inplace=True)       #Elimina la columna \"index\" generada en la linea anterior\n",
        "    csvGames.to_csv('/content/drive/My Drive/Traballo ABP/CSV/videojuegos_mini.csv', index=False)\n",
        "    \n",
        "    print(\"\")\n",
        "    print(\"\")\n",
        "    print(\"Videojuego eliminado satisfactoriamente !\")\n",
        "    print(\"----------------------------------------\")\n",
        "\n",
        "eliminarVideojuego()"
      ],
      "execution_count": null,
      "outputs": []
    },
    {
      "cell_type": "markdown",
      "metadata": {
        "id": "KmiS3Q57oVT1"
      },
      "source": [
        "## 4. Comentarios <a id=\"section4\"/>\n",
        "****\n",
        "\n",
        "Código referente a la gestión de comentarios. Nos permitirá consultar, añadir, modificar y eliminar."
      ]
    },
    {
      "cell_type": "markdown",
      "metadata": {
        "id": "g0mqlNKTosjH"
      },
      "source": [
        "### Consultar Comentarios"
      ]
    },
    {
      "cell_type": "code",
      "metadata": {
        "id": "Y4yCOkiApmdo"
      },
      "source": [
        "def consultarComentario():\n",
        "  global csvComments\n",
        "  opcion='0'\n",
        "  titulo = consultarVideojuego().iat[0,1]\n",
        "\n",
        "  if csvComments[(csvComments['titulo'] == titulo)].shape[0]==0:\n",
        "    print('No existen comentarios sobre ese videojuego')\n",
        "  else:  \n",
        "    while (opcion!='1' and opcion!='2'):\n",
        "      print('Que tipo de comentarios deseas visualizar?')\n",
        "      print('1) Profesionales')\n",
        "      print('2) Usuarios')\n",
        "      opcion = input()\n",
        "\n",
        "    merge = pd.merge(csvComments, csvUsers)\n",
        "\n",
        "    if opcion=='1':\n",
        "      return merge[(merge['titulo'] == titulo) & (merge['es_profesional']=='si')].loc[:,['login', 'comentario']]\n",
        "    if opcion=='2':\n",
        "      return merge[(merge['titulo'] == titulo) & (merge['es_profesional']=='no')].loc[:,['login', 'comentario']]\n",
        "\n",
        "consultarComentario()"
      ],
      "execution_count": null,
      "outputs": []
    },
    {
      "cell_type": "markdown",
      "metadata": {
        "id": "i7GGb-UuotRB"
      },
      "source": [
        "### Añadir Comentario"
      ]
    },
    {
      "cell_type": "code",
      "metadata": {
        "id": "FP6wl3PkppPw"
      },
      "source": [
        "def anadirComentario():\n",
        "  global csvComments\n",
        "\n",
        "  titulo = consultarVideojuego().iat[0,1]\n",
        "  login = consultarUsuario().iat[0,0]\n",
        "\n",
        "  if csvComments[(csvComments['titulo'] == titulo) & (csvComments['login'] == login)].shape[0]!=0:\n",
        "      print(\"Ya existe un comentario de ese usuario en ese videojuego. Prueba a modificar el comentario!\")\n",
        "\n",
        "  else:\n",
        "    comentario = input(\"Escribe tu comentario: \")\n",
        "    csvComments.loc[csvComments.shape[0]] = [titulo, login, comentario]\n",
        "    csvComments.to_csv('/content/drive/My Drive/Traballo ABP/CSV/comentarios.csv', index=False)\n",
        "\n",
        "    print(\"\")\n",
        "    print(\"\")\n",
        "    print(\"Comentario añadido satisfactoriamente !\")\n",
        "    print(\"---------------------------------------\")\n",
        "\n",
        "    return csvComments.tail(1)\n",
        "\n",
        "anadirComentario()"
      ],
      "execution_count": null,
      "outputs": []
    },
    {
      "cell_type": "markdown",
      "metadata": {
        "id": "r-ZmUnp5ot5e"
      },
      "source": [
        "### Modificar Comentario"
      ]
    },
    {
      "cell_type": "code",
      "metadata": {
        "id": "hye-kz2vprea"
      },
      "source": [
        "def modificarComentario():\n",
        "  global csvComments\n",
        "\n",
        "  titulo = consultarVideojuego().iat[0,1]\n",
        "\n",
        "  login = consultarUsuario().iat[0,0]\n",
        "  if csvComments[(csvComments['titulo'] == titulo) & (csvComments['login'] == login)].shape[0]==0:\n",
        "    print(\"No existe ningún comentario de ese usuario en ese videojuego\")\n",
        "\n",
        "  else:\n",
        "    contenido = input(\"Introduce el nuevo comentario: \")\n",
        "    csvComments.at[csvComments[(csvComments['titulo'] == titulo) & (csvComments['login'] == login)].index[0], 'comentario'] = contenido\n",
        "    csvComments.to_csv('/content/drive/My Drive/Traballo ABP/CSV/comentarios.csv', index=False)\n",
        "\n",
        "    print(\"\")\n",
        "    print(\"\")\n",
        "    print(\"Comentario modificado satisfactoriamente !\")\n",
        "    print(\"------------------------------------------\")\n",
        "\n",
        "    return csvComments[(csvComments['titulo'] == titulo) & (csvComments['login'] == login)]\n",
        "\n",
        "modificarComentario()"
      ],
      "execution_count": null,
      "outputs": []
    },
    {
      "cell_type": "markdown",
      "metadata": {
        "id": "jJahq_ozoulv"
      },
      "source": [
        "### Eliminar Comentario"
      ]
    },
    {
      "cell_type": "code",
      "metadata": {
        "id": "hwc52bMIpxAn"
      },
      "source": [
        "def eliminarComentario():\n",
        "  global csvComments\n",
        "\n",
        "  titulo = consultarVideojuego().iat[0,1]\n",
        "  login = consultarUsuario().iat[0,0]\n",
        "  \n",
        "  if csvComments[(csvComments['titulo'] == titulo) & (csvComments['login'] == login)].shape[0]==0:\n",
        "    print(\"No existe ningún comentario de ese usuario en ese videojuego\")\n",
        "\n",
        "  else:\n",
        "    print(\"¿Deseas borrar este comentario? S/N\")\n",
        "    \n",
        "    if (input() == 'S'):\n",
        "      csvComments = csvComments.drop(csvComments[(csvComments['titulo'] == titulo) & (csvComments['login'] == login)].index[0])\n",
        "      csvComments.reset_index(inplace=True)                   #Actualiza los index\n",
        "      csvComments.drop('index', axis = 1, inplace=True)       #Elimina la columna \"index\" generada en la linea anterior\n",
        "      csvComments.to_csv('/content/drive/My Drive/Traballo ABP/CSV/comentarios.csv', index=False)\n",
        "\n",
        "      print(\"\")\n",
        "      print(\"\")\n",
        "      print(\"Comentario eliminado satisfactoriamente !\")\n",
        "      print(\"----------------------------------------\")\n",
        "\n",
        "eliminarComentario()"
      ],
      "execution_count": null,
      "outputs": []
    },
    {
      "cell_type": "markdown",
      "metadata": {
        "id": "Z8SAETrQV_U9"
      },
      "source": [
        "## 5. Valoración<a id=\"section5\"/>"
      ]
    },
    {
      "cell_type": "markdown",
      "metadata": {
        "id": "VTlLpYlXWzwg"
      },
      "source": [
        "### Consultar Valoración"
      ]
    },
    {
      "cell_type": "code",
      "metadata": {
        "id": "tUHxc_jGXAPo"
      },
      "source": [
        "def consultarValoracion():\n",
        "  global csvVals\n",
        "  opcion='0'\n",
        "  titulo = consultarVideojuego().iat[0,1]\n",
        "\n",
        "  if csvVals[(csvVals['titulo'] == titulo)].shape[0]==0:\n",
        "    print('No existen valoraciones sobre ese videojuego')\n",
        "  else: \n",
        "    while (opcion!='1' and opcion!='2'):\n",
        "      print('Que tipo de valoraciones deseas visualizar?')\n",
        "      print('1) Profesionales')\n",
        "      print('2) Usuarios')\n",
        "      opcion = input()\n",
        "\n",
        "    merge = pd.merge(csvVals, csvUsers)\n",
        "\n",
        "    if opcion=='1':\n",
        "      if merge[(merge['titulo'] == titulo) & (merge['es_profesional']=='si')].shape[0]==0:\n",
        "        print('No existen valoraciones sobre ese videojuego')\n",
        "      else:\n",
        "        print('La valoracion media de los profesionales es: ', round(merge[(merge['titulo'] == titulo) & (merge21['es_profesional']=='si')]['valoracion'].mean(),1))  \n",
        "    if opcion=='2':\n",
        "      if merge[(merge['titulo'] == titulo) & (merge['es_profesional']=='no')].shape[0]==0:\n",
        "        print('No existen valoraciones sobre ese videojuego')\n",
        "      else:\n",
        "        print('La valoracion media de los usuarios es: ', round(merge[(merge['titulo'] == titulo) & (merge['es_profesional']=='no')]['valoracion'].mean(),1))  \n",
        "\n",
        "consultarValoracion()"
      ],
      "execution_count": null,
      "outputs": []
    },
    {
      "cell_type": "markdown",
      "metadata": {
        "id": "WIrSoKQIW2ct"
      },
      "source": [
        "### Añadir Valoración"
      ]
    },
    {
      "cell_type": "code",
      "metadata": {
        "id": "sPmTaTVWXDAv"
      },
      "source": [
        "def anadirValoracion():\n",
        "  global csvVals\n",
        "\n",
        "  titulo = consultarVideojuego().iat[0,1]\n",
        "  login = consultarUsuario().iat[0,0]\n",
        "\n",
        "  if csvVals[(csvVals['titulo'] == titulo) & (csvVals['login'] == login)].shape[0]!=0:\n",
        "      print(\"Ya existe una valoración de ese usuario en ese videojuego. Prueba a modificar la valoración!\")\n",
        "  else:\n",
        "    valoracion=-1\n",
        "    while(valoracion<0.0 or valoracion>10.0):\n",
        "      valoracion = round(float(input(\"Indica tu valoración 0.0 - 10.0: \")),1)\n",
        "    csvVals.loc[csvVals.shape[0]] = [titulo, login, valoracion]\n",
        "    csvVals.to_csv('/content/drive/My Drive/Traballo ABP/CSV/valoraciones.csv', index=False)\n",
        "\n",
        "    print(\"\")\n",
        "    print(\"\")\n",
        "    print(\"Valoración añadida satisfactoriamente !\")\n",
        "    print(\"---------------------------------------\")\n",
        "\n",
        "    return csvVals.tail(1)\n",
        "\n",
        "anadirValoracion()"
      ],
      "execution_count": null,
      "outputs": []
    },
    {
      "cell_type": "markdown",
      "metadata": {
        "id": "PXfvbTkpW50l"
      },
      "source": [
        "### Modificar Valoración"
      ]
    },
    {
      "cell_type": "code",
      "metadata": {
        "id": "mD0uV8NlXEck"
      },
      "source": [
        "def modificarValoracion():\n",
        "  global csvVals\n",
        "\n",
        "  titulo = consultarVideojuego().iat[0,1]\n",
        "  login = consultarUsuario().iat[0,0]\n",
        "\n",
        "  if csvVals[(csvVals['titulo'] == titulo) & (csvVals['login'] == login)].shape[0]==0:\n",
        "    print(\"No existe ningúna valoración de ese usuario en ese videojuego\")\n",
        "\n",
        "  else:\n",
        "    while(valoracion<0.0 or valoracion>10.0):\n",
        "      valoracion = round(float(input(\"Indica la nueva valoración 0.0 - 10.0: \")),1)\n",
        "    csvVals.at[csvVals[(csvVals['titulo'] == titulo) & (csvVals['login'] == login)].index[0], 'valoracion'] = valoracion\n",
        "    csvVals.to_csv('/content/drive/My Drive/Traballo ABP/CSV/valoracion.csv', index=False)\n",
        "\n",
        "    print(\"\")\n",
        "    print(\"\")\n",
        "    print(\"Valoración modificada satisfactoriamente !\")\n",
        "    print(\"------------------------------------------\")\n",
        "\n",
        "    return csvVals[(csvVals['titulo'] == titulo) & (csvVals['login'] == login)]\n",
        "\n",
        "modificarValoracion()"
      ],
      "execution_count": null,
      "outputs": []
    },
    {
      "cell_type": "markdown",
      "metadata": {
        "id": "68geR0DhW7Oy"
      },
      "source": [
        "### Eliminar Valoración"
      ]
    },
    {
      "cell_type": "code",
      "metadata": {
        "id": "QoqlHlcbXF0s"
      },
      "source": [
        "def eliminarValoracion():\n",
        "  global csvVals\n",
        "\n",
        "  titulo = consultarVideojuego().iat[0,1]\n",
        "  login = consultarUsuario().iat[0,0]\n",
        "\n",
        "  if csvVals[(csvVals['titulo'] == titulo) & (csvVals['login'] == login)].shape[0]==0:\n",
        "    print(\"No existe ningúna valoración de ese usuario en ese videojuego\")\n",
        "\n",
        "  else:\n",
        "    print(\"¿Deseas borrar esta valoración? S/N\")\n",
        "\n",
        "    if (input() == 'S'):\n",
        "      csvVals = csvVals.drop(csvVals[(csvVals['titulo'] == titulo) & (csvVals['login'] == login)].index[0])\n",
        "      csvVals.reset_index(inplace=True)                   #Actualiza los index\n",
        "      csvVals.drop('index', axis = 1, inplace=True)       #Elimina la columna \"index\" generada en la linea anterior\n",
        "      csvVals.to_csv('/content/drive/My Drive/Traballo ABP/CSV/valoraciones.csv', index=False)\n",
        "\n",
        "      print(\"\")\n",
        "      print(\"\")\n",
        "      print(\"Valoración eliminada satisfactoriamente !\")\n",
        "      print(\"-----------------------------------------\")\n",
        "\n",
        "eliminarValoracion()"
      ],
      "execution_count": null,
      "outputs": []
    }
  ]
}